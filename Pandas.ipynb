{
 "cells": [
  {
   "cell_type": "code",
   "execution_count": null,
   "id": "ca9222fb-1c97-4f3f-9abc-0a32fb35652d",
   "metadata": {},
   "outputs": [],
   "source": []
  }
 ],
 "metadata": {
  "kernelspec": {
   "display_name": "",
   "name": ""
  },
  "language_info": {
   "name": ""
  }
 },
 "nbformat": 4,
 "nbformat_minor": 5
}
